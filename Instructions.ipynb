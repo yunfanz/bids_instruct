{
 "cells": [
  {
   "cell_type": "markdown",
   "metadata": {},
   "source": [
    "## Goal\n",
    "Fast Radio Burst detection.\n",
    "## Login\n",
    "Log into the prepared GCS VM (35.197.9.195) with the provided private key bids_rsa (beware of permissions). \n",
    "```\n",
    "https://github.com/yunfanz/bids_instruct.git\n",
    "```\n",
    "If python is your language of choice, set up port forwarding to 8881, 8882, etc.. \n",
    "\n",
    "\n",
    "MAKE A DIRECTORY in /home/bids/ that identifies with your name, work in that directory. \n",
    "## Setup\n",
    "The following instructions are for python users. If you have other favorite languages readily available, feel free. \n",
    "\n",
    "miniconda2 has already been installed. \n",
    "Activate a conda environment\n",
    "``` \n",
    "source activate my_env\n",
    "```\n",
    "\n",
    "## Data\n",
    "Binary time series for 4 dispersion measures, as well as metadata are in ~/data_dir\n",
    "## Analysis\n",
    "Launch jupyter with\n",
    "```\n",
    "jupyter notebook --port=[port number] --no-browser &\n",
    "```\n",
    "Find the Fast Radio Bursts. What dispersion measures are they at? Make some plots/visualizations. You may search the internet for help and discuss amongst yourselves. \n",
    "Open ended self guided exploration...\n"
   ]
  },
  {
   "cell_type": "markdown",
   "metadata": {
    "collapsed": true
   },
   "source": [
    "## Answer these questions if you are interested in ML work\n",
    "\n",
    "Please answer these questions on your own without peer/internet resources. \n",
    "1. What methods of Machine Learning can you think of to study data that are mostly unlabeled? Discuss what you know about their uses and limitations. \n",
    "\n",
    "2. What about data with rare events of interest? "
   ]
  },
  {
   "cell_type": "code",
   "execution_count": null,
   "metadata": {
    "collapsed": true
   },
   "outputs": [],
   "source": []
  }
 ],
 "metadata": {
  "anaconda-cloud": {},
  "kernelspec": {
   "display_name": "Python [conda env:envPAPER]",
   "language": "python",
   "name": "conda-env-envPAPER-py"
  },
  "language_info": {
   "codemirror_mode": {
    "name": "ipython",
    "version": 2
   },
   "file_extension": ".py",
   "mimetype": "text/x-python",
   "name": "python",
   "nbconvert_exporter": "python",
   "pygments_lexer": "ipython2",
   "version": "2.7.12"
  }
 },
 "nbformat": 4,
 "nbformat_minor": 1
}
