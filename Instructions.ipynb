{
 "cells": [
  {
   "cell_type": "markdown",
   "metadata": {},
   "source": [
    "## Goal\n",
    "Fast Radio Burst detection.\n",
    "## Login\n",
    "Log into the prepared GCS VM (35.197.9.195) with the provided private key bids_rsa (beware of permissions). \n",
    "```\n",
    "https://github.com/yunfanz/bids_instruct.git\n",
    "```\n",
    "If python is your language of choice, set up port forwarding to 8888. \n",
    "## Setup\n",
    "The following instructions are for python users. If you have other favorite languages readily available, feel free. \n",
    "\n",
    "miniconda2 has already been installed. \n",
    "Activate a conda environment\n",
    "``` \n",
    "source activate my_env\n",
    "```\n",
    "\n",
    "## Data\n",
    "Binary time series for 4 dispersion measures, as well as metadata are in ~/hippke\n",
    "## Analysis\n",
    "Launch jupyter with\n",
    "```\n",
    "jupyter notebook --port=8888 --no-browser &\n",
    "```\n",
    "Find the Fast Radio Bursts. What dispersion measures are they at? Plot the regions of interest.\n",
    "Open ended self guided exploration...\n"
   ]
  },
  {
   "cell_type": "code",
   "execution_count": null,
   "metadata": {
    "collapsed": true
   },
   "outputs": [],
   "source": []
  }
 ],
 "metadata": {
  "anaconda-cloud": {},
  "kernelspec": {
   "display_name": "Python [conda env:envPAPER]",
   "language": "python",
   "name": "conda-env-envPAPER-py"
  },
  "language_info": {
   "codemirror_mode": {
    "name": "ipython",
    "version": 2
   },
   "file_extension": ".py",
   "mimetype": "text/x-python",
   "name": "python",
   "nbconvert_exporter": "python",
   "pygments_lexer": "ipython2",
   "version": "2.7.12"
  }
 },
 "nbformat": 4,
 "nbformat_minor": 1
}
